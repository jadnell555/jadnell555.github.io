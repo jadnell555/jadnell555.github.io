{
 "cells": [
  {
   "cell_type": "markdown",
   "metadata": {},
   "source": [
    "# Jadnell H. Reyes Pérez Portfolio"
   ]
  },
  {
   "cell_type": "markdown",
   "metadata": {},
   "source": [
    "## Index:\n",
    "\n",
    "### 1. About me\n",
    "### 2. Technologies Stack \n",
    "### 3. Projects\n",
    "### 4. Contact Information"
   ]
  },
  {
   "cell_type": "markdown",
   "metadata": {},
   "source": [
    "#### Theme Color Palettes:\n",
    "\n",
    "##### Lightly Invincible:\n",
    "<img src=\"https://github.com/jadnell555/jadnell555.github.io/blob/main/Images/Color%20Palettes/Portfolio%20Light%20Mode%20.png?raw=true\" alt=\"Lightly Invincible Theme Color Palette\" width=\"300\" height=\"400\" class=\"blog-image\">\n",
    "\n",
    "##### Medellin's Sunset:\n",
    "##### Wiz's Dark Theme:"
   ]
  },
  {
   "cell_type": "markdown",
   "metadata": {},
   "source": [
    "#### Tech Stack Information Links: "
   ]
  },
  {
   "cell_type": "markdown",
   "metadata": {},
   "source": [
    "| Programming Languages and Software | Description | Source |\n",
    "| ---------------------------------- | ----------- | ------ |\n",
    "| HTML |HTML is the language in which most websites are written. HTML is used to create pages and make them functional. HTML stands for Hyper Text Markup Language | https://html.com/ |\n",
    "| CSS | Cascading Style Sheets (CSS) is a simple mechanism for adding style (e.g., fonts, colors, spacing) to Web documents. | https://www.w3.org/Style/CSS/Overview.en.html |\n",
    "| JavaScript | JavaScript is a scripting or programming language that allows you to implement complex features on web pages — every time a web page does more than just sit there and display static information for you to look at — displaying timely content updates, interactive maps, animated 2D/3D graphics, scrolling video jukeboxes, etc. | https://developer.mozilla.org/en-US/docs/Learn/JavaScript/First_steps/What_is_JavaScript |\n",
    "| Python | Python is an interpreted, interactive, object-oriented programming language. It incorporates modules, exceptions, dynamic typing, very high level dynamic data types, and classes. It supports multiple programming paradigms beyond object-oriented programming, such as procedural and functional programming. Python combines remarkable power with very clear syntax. | https://docs.python.org/3/faq/general.html#what-is-python |\n",
    "| C++ |C++ is a cross-platform language that can be used to create high-performance applications. | https://www.w3schools.com/cpp/cpp_intro.asp |\n",
    "| Dart |Dart is a client-optimized language for developing fast apps on any platform. Its goal is to offer the most productive programming language for multi-platform development, paired with a flexible execution runtime platform for app frameworks.| https://dart.dev/overview |\n",
    "| SQL | Structured query language (SQL) is a programming language for storing and processing information in a relational database. A relational database stores information in tabular form, with rows and columns representing different data attributes and the various relationships between the data values. | https://aws.amazon.com/what-is/sql/ |\n",
    "| MATLAB | MATLAB is a programming and numeric computing platform used by millions of engineers and scientists to analyze data, develop algorithms, and create models. | https://www.mathworks.com/products/matlab.html |\n",
    "| Visual Studio Code | Visual Studio Code is a streamlined code editor with support for development operations like debugging, task running, and version control. It aims to provide just the tools a developer needs for a quick code-build-debug cycle and leaves more complex workflows to fuller featured IDEs, such as Visual Studio IDE. | https://code.visualstudio.com/docs/supporting/faq |\n",
    "| Android Studio |Android Studio is the official Integrated Development Environment (IDE) for Android app development. Based on the powerful code editor and developer tools from IntelliJ IDEA , Android Studio offers even more features that enhance your productivity when building Android apps |https://developer.android.com/studio/intro |\n",
    "| Visual Studio | The Visual Studio IDE is a creative launching pad that you can use to edit, debug, and build code, and then publish an app. Over and above the standard editor and debugger that most IDEs provide, Visual Studio includes compilers, code completion tools, graphical designers, and many more features to enhance the software development process. | https://visualstudio.microsoft.com/#vs-section |\n",
    "| VirtualBox | VirtualBox is a general-purpose full virtualizer for x86 hardware, targeted at server, desktop and embedded use. | https://www.virtualbox.org/wiki/VirtualBox |\n",
    "| Raspberry Pi |Raspberry Pi is a micro computer that has all the features you expect from a regular computer: wireless internet connectivity, HDMI ports for your monitors, and USB ports for your accessories, along with ample processing power and RAM for all your day-to-day use.| https://www.raspberrypi.com/for-home/ |\n",
    "|Arduino|Arduino is an open-source electronics platform based on easy-to-use hardware and software. Arduino boards are able to read inputs - light on a sensor, a finger on a button, or a Twitter message - and turn it into an output - activating a motor, turning on an LED, publishing something online. You can tell your board what to do by sending a set of instructions to the microcontroller on the board. |https://www.arduino.cc/en/Guide/Introduction|\n",
    "| GitHub |GitHub is a code hosting platform for version control and collaboration. It lets you and others work together on projects from anywhere.|https://docs.github.com/en/get-started/quickstart/hello-world |\n",
    "| Jupyter Notebooks | Jupyter Notebook is a simplified notebook authoring application, and is a part of Project Jupyter, a large umbrella project centered around the goal of providing tools (and standards) for interactive computing with computational notebooks. A computational notebook is a shareable document that combines computer code, plain language descriptions, data, rich visualizations like 3D models, charts, graphs and figures, and interactive controls. | https://jupyter-notebook.readthedocs.io/en/stable/|\n",
    "| Flutter | Flutter is an open source framework by Google for building beautiful, natively compiled, multi-platform applications from a single codebase. | https://flutter.dev/ |\n",
    "| Django | Django is a high-level Python web framework that encourages rapid development and clean, pragmatic design. Built by experienced developers, it takes care of much of the hassle of web development, so you can focus on writing your app without needing to reinvent the wheel. It’s free and open source. | https://www.djangoproject.com/ |"
   ]
  },
  {
   "cell_type": "markdown",
   "metadata": {},
   "source": [
    "#### Contact Me Form Code:"
   ]
  },
  {
   "cell_type": "code",
   "execution_count": null,
   "metadata": {
    "vscode": {
     "languageId": "html"
    }
   },
   "outputs": [],
   "source": [
    "<div class=\"infoCard\">\n",
    "    <h3 id=\"contact\">\n",
    "      <center>Contact Me:</center>\n",
    "    </h3>\n",
    "\n",
    "    <!-- Contact Form: -->\n",
    "    <div class=\"form\">\n",
    "      <input\n",
    "        type=\"text\"\n",
    "        class=\"formButtons\"\n",
    "        id=\"firstName\"\n",
    "        placeholder=\"First Name:\"\n",
    "        required\n",
    "      />\n",
    "      <input\n",
    "        type=\"text\"\n",
    "        class=\"formButtons\"\n",
    "        id=\"lastName\"\n",
    "        placeholder=\"Last Name:\"\n",
    "        required\n",
    "      />\n",
    "      <br />\n",
    "      <input\n",
    "        type=\"email\"\n",
    "        class=\"formButtons\"\n",
    "        id=\"email\"\n",
    "        placeholder=\"Email:\"\n",
    "        required\n",
    "      />\n",
    "      <br />\n",
    "      <textarea\n",
    "        placeholder=\"Message:\"\n",
    "        id=\"message\"\n",
    "        class=\"formButtons\"\n",
    "        required\n",
    "      ></textarea\n",
    "      ><br />\n",
    "      <button\n",
    "        onclick=\"\"\n",
    "        id=\"submitButton\"\n",
    "        class=\"formButtons\"\n",
    "        disabled\n",
    "      >\n",
    "        Submit\n",
    "      </button>\n",
    "    </div>\n",
    "  </div>"
   ]
  }
 ],
 "metadata": {
  "language_info": {
   "name": "python"
  },
  "orig_nbformat": 4
 },
 "nbformat": 4,
 "nbformat_minor": 2
}
