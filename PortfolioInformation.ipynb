{
 "cells": [
  {
   "cell_type": "markdown",
   "metadata": {},
   "source": [
    "# Jadnell H. Reyes Pérez Portfolio"
   ]
  },
  {
   "cell_type": "markdown",
   "metadata": {},
   "source": [
    "## INDEX:\n"
   ]
  },
  {
   "cell_type": "markdown",
   "metadata": {},
   "source": [
    "\n",
    "#### 1. Portfolio Design\n",
    "##### 1.1 Design Sketches\n",
    "###### 1.1.1 First Draft\n",
    "###### 1.1.2 Redo of About Me and Contact Section \n",
    "###### 1.1.3 Redo of Technologies Stack Section\n",
    "###### 1.1.4 Redo of Projects Section\n",
    "###### 1.1.5 Last Sketch\n",
    "##### 1.2 Color Palettes\n",
    "###### 1.2.1 Light Mode\n",
    "###### 1.2.2 Dark Mode\n",
    "###### 1.2.3 Project Status Button Colors (Both Modes)\n",
    "##### 1.3 Background Videos\n",
    "###### 1.3.1 Light Mode\n",
    "###### 1.3.2 Dark Mode\n",
    "#### 2. About me Section\n",
    "##### 2.1 Who am I?\n",
    "##### 2.2 What can you find here?\n",
    "##### 2.3 Achievements, Degrees, Certifications & Licenses\n",
    "#### 3. Technologies Stack Section \n",
    "#### 4. Projects Section \n",
    "##### 4.1 Capstone Project: DEPO Web App\n",
    "##### 4.2 My Portfolio\n",
    "##### 4.3 Haresh Quiz Game\n",
    "##### 4.4 DC Motor\n",
    "##### 4.5 Stepper Motor\n",
    "#### 5. Contact Information Section\n",
    "##### 5.1 Social Media Links\n",
    "##### 5.2 Resumé Download Link\n",
    "##### 5.3 Contact Form Recipient Email\n",
    "#### 6. Templates\n",
    "##### 6.1 Technologies Stack Button Template\n",
    "##### 6.2 Project Card Template\n",
    "##### 6.3 Social Media Button Template"
   ]
  },
  {
   "cell_type": "markdown",
   "metadata": {},
   "source": [
    "## 1. PORTFOLIO DESIGN:"
   ]
  },
  {
   "cell_type": "markdown",
   "metadata": {},
   "source": [
    "### 1.1 Design Sketches:\n"
   ]
  },
  {
   "cell_type": "markdown",
   "metadata": {},
   "source": [
    "\n",
    "#### 1.1.1 First Draft:\n",
    "\n",
    "<div>\n",
    "<img src=\"Images/Portfolio%20Sketches/sketch1.jpg\" width=\"auto\" height=\"250\">\n",
    "</div>\n",
    "\n",
    "<div>\n",
    "<img src=\"Images/Portfolio%20Sketches/sketch2.jpg\" width=\"auto\" height=\"250\">\n",
    "</div>\n",
    "\n",
    "#### 1.1.2 August 6, 2023 - Redo of About me and Contact Section:\n",
    "\n",
    "<div>\n",
    "<img src=\"Images/Portfolio%20Sketches/sketch3.jpg\" width=\"auto\" height=\"250\">\n",
    "</div>\n",
    "\n",
    "#### 1.1.3 September 12, 2023 - Redo of Technologies Stack Section:\n",
    "\n",
    "<div>\n",
    "<img src=\"Images/Portfolio%20Sketches/sketch4.jpg\" width=\"auto\" height=\"250\">\n",
    "</div>\n",
    "\n",
    "#### 1.1.4 Redo of Projects Section: \n",
    "\n",
    "<div>\n",
    "<img src=\"Images/Portfolio%20Sketches/sketch5.jpg\" width=\"auto\" height=\"250\">\n",
    "</div>\n",
    "\n",
    "#### 1.1.5 Final Draft \n",
    "\n",
    "<div>\n",
    "<img src=\"Images/Portfolio%20Sketches/sketch6.jpg\" width=\"auto\" height=\"250\">\n",
    "</div>\n",
    "\n"
   ]
  },
  {
   "cell_type": "markdown",
   "metadata": {},
   "source": [
    "### 1.2 Color Palettes:\n"
   ]
  },
  {
   "cell_type": "markdown",
   "metadata": {},
   "source": [
    "#### 1.2.1 Light Mode:\n",
    "\n",
    "<div>\n",
    "<img src=\"Images/Color%20Palettes/Light%20Mode%20Color%20Palette.png\" width=\"auto\" height=\"250\">\n",
    "</div>\n",
    "  \n",
    "#### 1.2.2 Dark Mode:\n",
    "\n",
    "<div>\n",
    "<img src=\"Images/Color%20Palettes/Dark%20Mode%20Color%20Palette.png\" width=\"auto\" height=\"250\">\n",
    "</div>\n",
    "  \n",
    "#### 1.2.3 Project Status Button Colors (Both Modes):\n",
    "\n",
    "<div>\n",
    "<img src=\"Images/Color%20Palettes/Project%20Status%20Color%20Palette%20(Both%20Modes).png\" width=\"auto\" height=\"250\">\n",
    "</div>"
   ]
  },
  {
   "cell_type": "markdown",
   "metadata": {},
   "source": [
    "### 1.3 Background Videos:\n"
   ]
  },
  {
   "cell_type": "markdown",
   "metadata": {},
   "source": [
    "#### 1.3.1 Light Mode:\n",
    "\n",
    "- Video:\n",
    "  \n",
    "<video\n",
    "    muted\n",
    "    autoplay\n",
    "    loop\n",
    "    src=\"Videos/background.mp4\"\n",
    "    width=\"auto\" height=\"200px\">\n",
    "\n",
    "- Video by Rostislav Uzunov from Pexels: https://www.pexels.com/video/close-up-video-of-a-wavy-plastic-9150545/\n",
    "\n",
    "#### 1.3.2 Dark Mode:\n",
    "\n",
    "- Video:\n",
    "  \n",
    "<video\n",
    "    muted\n",
    "    autoplay\n",
    "    loop\n",
    "    src=\"Videos/darkBackground.mp4\"\n",
    "    width=\"auto\" height=\"200px\">\n",
    "    \n",
    "- Video by Luis Quintero from Pexels: https://www.pexels.com/video/abstract-video-4990245/"
   ]
  },
  {
   "cell_type": "markdown",
   "metadata": {},
   "source": [
    "## 2. ABOUT ME SECTION:\n"
   ]
  },
  {
   "cell_type": "markdown",
   "metadata": {},
   "source": [
    "### 2.1 Who am I?\n",
    "\n",
    "I'm a 22 year old Computer Engineering graduate from the Polytechnic University of Puerto Rico. My goal is to use the knowledge and skills I've acquired through real projects, while, at the same time, gaining experience. Beyond work, I find joy in going to the beach, socializing with friends, and playing basketball and videogames.\n",
    "\n",
    "### 2.2 What can you find here? \n",
    "\n",
    "Below you can find the technologies, software and hardware I have experience on. You can also find projects I've worked on, and lastly, my contact information. Use the upper left menu button \"⚃\" for easier navigation and the upper right theme button to change the look of the Portfolio. Enjoy exploring!\n",
    "\n",
    "### 2.3 Achievements, Degrees, Certifications & Licenses:\n",
    "\n",
    "- Bachelor's Degree of Science in Computer Engineering, cum laude\n",
    "- High School Diploma\n",
    "- High School Valedictorian Award\n",
    "- Driver's License"
   ]
  },
  {
   "cell_type": "markdown",
   "metadata": {},
   "source": [
    "## 3. TECHNOLOGIES STACK SECTION:"
   ]
  },
  {
   "cell_type": "markdown",
   "metadata": {},
   "source": [
    "### 3.1 Technologies Stack Information: \n",
    "\n",
    "| Programming Languages and Software | Description | Source |\n",
    "| ---------------------------------- | ----------- | ------ |\n",
    "| HTML |HTML is the language in which most websites are written. HTML is used to create pages and make them functional. HTML stands for Hyper Text Markup Language | https://html.com/ |\n",
    "| CSS | Cascading Style Sheets (CSS) is a simple mechanism for adding style (e.g., fonts, colors, spacing) to Web documents. | https://www.w3.org/Style/CSS/Overview.en.html |\n",
    "| JavaScript | JavaScript is a scripting or programming language that allows you to implement complex features on web pages — every time a web page does more than just sit there and display static information for you to look at — displaying timely content updates, interactive maps, animated 2D/3D graphics, scrolling video jukeboxes, etc. | https://developer.mozilla.org/en-US/docs/Learn/JavaScript/First_steps/What_is_JavaScript |\n",
    "| Python | Python is an interpreted, interactive, object-oriented programming language. It incorporates modules, exceptions, dynamic typing, very high level dynamic data types, and classes. It supports multiple programming paradigms beyond object-oriented programming, such as procedural and functional programming. Python combines remarkable power with very clear syntax. | https://docs.python.org/3/faq/general.html#what-is-python |\n",
    "| C++ |C++ is a cross-platform language that can be used to create high-performance applications. | https://www.w3schools.com/cpp/cpp_intro.asp |\n",
    "| Dart |Dart is a client-optimized language for developing fast apps on any platform. Its goal is to offer the most productive programming language for multi-platform development, paired with a flexible execution runtime platform for app frameworks.| https://dart.dev/overview |\n",
    "| SQL | Structured query language (SQL) is a programming language for storing and processing information in a relational database. A relational database stores information in tabular form, with rows and columns representing different data attributes and the various relationships between the data values. | https://aws.amazon.com/what-is/sql/ |\n",
    "| MATLAB | MATLAB is a programming and numeric computing platform used by millions of engineers and scientists to analyze data, develop algorithms, and create models. | https://www.mathworks.com/products/matlab.html |\n",
    "| Visual Studio Code | Visual Studio Code is a streamlined code editor with support for development operations like debugging, task running, and version control. It aims to provide just the tools a developer needs for a quick code-build-debug cycle and leaves more complex workflows to fuller featured IDEs, such as Visual Studio IDE. | https://code.visualstudio.com/docs/supporting/faq |\n",
    "| Android Studio |Android Studio is the official Integrated Development Environment (IDE) for Android app development. Based on the powerful code editor and developer tools from IntelliJ IDEA , Android Studio offers even more features that enhance your productivity when building Android apps |https://developer.android.com/studio/intro |\n",
    "| Visual Studio | The Visual Studio IDE is a creative launching pad that you can use to edit, debug, and build code, and then publish an app. Over and above the standard editor and debugger that most IDEs provide, Visual Studio includes compilers, code completion tools, graphical designers, and many more features to enhance the software development process. | https://visualstudio.microsoft.com/#vs-section |\n",
    "| VirtualBox | VirtualBox is a general-purpose full virtualizer for x86 hardware, targeted at server, desktop and embedded use. | https://www.virtualbox.org/wiki/VirtualBox |\n",
    "| Raspberry Pi |Raspberry Pi is a micro computer that has all the features you expect from a regular computer: wireless internet connectivity, HDMI ports for your monitors, and USB ports for your accessories, along with ample processing power and RAM for all your day-to-day use.| https://www.raspberrypi.com/for-home/ |\n",
    "|Arduino|Arduino is an open-source electronics platform based on easy-to-use hardware and software. Arduino boards are able to read inputs - light on a sensor, a finger on a button, or a Twitter message - and turn it into an output - activating a motor, turning on an LED, publishing something online. You can tell your board what to do by sending a set of instructions to the microcontroller on the board. |https://www.arduino.cc/en/Guide/Introduction|\n",
    "| GitHub |GitHub is a code hosting platform for version control and collaboration. It lets you and others work together on projects from anywhere.|https://docs.github.com/en/get-started/quickstart/hello-world |\n",
    "| Jupyter Notebooks | Jupyter Notebook is a simplified notebook authoring application, and is a part of Project Jupyter, a large umbrella project centered around the goal of providing tools (and standards) for interactive computing with computational notebooks. A computational notebook is a shareable document that combines computer code, plain language descriptions, data, rich visualizations like 3D models, charts, graphs and figures, and interactive controls. | https://jupyter-notebook.readthedocs.io/en/stable/|\n",
    "| Flutter | Flutter is an open source framework by Google for building beautiful, natively compiled, multi-platform applications from a single codebase. | https://flutter.dev/ |\n",
    "| Django | Django is a high-level Python web framework that encourages rapid development and clean, pragmatic design. Built by experienced developers, it takes care of much of the hassle of web development, so you can focus on writing your app without needing to reinvent the wheel. It’s free and open source. | https://www.djangoproject.com/ |\n",
    "| Bootstrap | Bootstrap is the most popular CSS Framework for developing responsive and mobile-first websites. Bootstrap 5 is the newest version of Bootstrap. | https://www.w3schools.com/whatis/whatis_bootstrap.asp |"
   ]
  },
  {
   "cell_type": "markdown",
   "metadata": {},
   "source": [
    "## 4. PROJECTS SECTION:"
   ]
  },
  {
   "cell_type": "markdown",
   "metadata": {},
   "source": [
    "### 4.1 Capstone Project: DEPO Web App\n",
    "\n",
    "- **Description:** This web application served as my Capstone Project and was developed for the Office of Special Investigations of ASG (“Administración de Servicios Generales de Puerto Rico”), which requires exempt and governmental entities with some delegation, to submit monthly reports of the purchases made. The Digital Exempt Procurement Oversight (DEPO) web application was developed to automate the audit process and expedite the workflow by providing government agencies with a user-friendly portal, minimizing errors, and speeding up data entry. This project focused on the user-side of the web app, as in, the part that ASG employees will interact with. The client-side was handled by another team that was in close contact with ours to ensure compatibility. For security reasons, the source code of this project is not available.\n",
    "\n",
    "\n",
    "- **Status:** Completed \n",
    "- **Type of project:** University \n",
    "- **Tech Stack Implemented:**\n",
    "  - CSS\n",
    "  - Django\n",
    "  - GitHub\n",
    "  - Visual Studio Code\n",
    "  - HTML\n",
    "  - JavaScript \n",
    "  - Python \n",
    "  - SQL\n",
    "- **Source:** N/A\n"
   ]
  },
  {
   "cell_type": "markdown",
   "metadata": {},
   "source": [
    "### 4.2 My Portfolio (This Project)\n",
    "\n",
    "- **Description:** My portfolio is the current webpage you're on and it's a showcase of the knowledge I've acquired up to now. It displays a collection of different projects I've worked on, ranging from personal to university projects. You can also find the list of technologies I have expertise on. Lastly, it includes contact information, such as: social media, a contact form and my Resumé. This portfolio was implemented using GitHub pages, a static site hosting service provided by GitHub. I decided to use this service since it is free and because of it's ease-of-use and quick deployment. This project was developed after I graduated college in July 2023 and it's a work in progress.\n",
    "  \n",
    "- **Status:** In progress \n",
    "- **Type of project:** Personal \n",
    "- **Tech Stack Implemented:**\n",
    "  - Bootstrap\n",
    "  - CSS\n",
    "  - GitHub\n",
    "  - HTML\n",
    "  - JavaScript \n",
    "  - Jupyter Notebook\n",
    "  - Visual Studio Code\n",
    "- **Source:** https://github.com/jadnell555/jadnell555.github.io"
   ]
  },
  {
   "cell_type": "markdown",
   "metadata": {},
   "source": [
    "### 4.3 Haresh Quiz Game\n",
    "\n",
    "- **Description:** Haresh Quiz Game consists of 20 questions. You start with three lives and each time you answer a question incorrectly you lose one. If you lose all of your lives it's game over, on the contrary, if you answer every question without losing all of your lives, you win. This program was built using the \"graphics.py\" module from John Zelle's *Python Programming: An Introduction to Computer Science* book to generate a simple GUI (Graphical User Interface) and it can be found in the source code below. The project has three versions. Version A uses only conditional logic. Version B uses functions to reduce the code. Version C uses classes to reduce it even further. \n",
    "  \n",
    "- **Status:** Completed \n",
    "- **Type of project:** University \n",
    "- **Tech Stack Implemented:**\n",
    "  - GitHub\n",
    "  - Python \n",
    "  - Visual Studio Code\n",
    "- **Source:** https://github.com/jadnell555/reyes_109739_project01_HareshQuizGame"
   ]
  },
  {
   "cell_type": "markdown",
   "metadata": {},
   "source": [
    "### 4.4 DC Motor: Control, Direction and PWM\n",
    "\n",
    "- **Description:** The purpose of this project was to power a DC (Direct Current) motor and control it's motion using an Arduino board powered by a laptop and C++. The speed of the motor can be altered by manipulating it's driving voltage; higher voltage equals more speed. This project consisted of three parts. First, we had to connect the DC motor to the Arduino board and test it. Secondly, we had to generate code that would increase the motor's speed by 10% every 5 seconds using PWM (Pulse Width Modulation). Lastly, the DC motor had to be controlled with the keyboard's input using the serial port of the Arduino board.\n",
    "  \n",
    "- **Status:** Completed \n",
    "- **Type of project:** University \n",
    "- **Tech Stack Implemented:**\n",
    "  - Arduino\n",
    "  - C++\n",
    "  - GitHub\n",
    "- **Source:** https://github.com/jadnell555/CollegeProjects/tree/main/Arduino/Microcomputer%20Interfacing%20Lab/Lab%205%20-%20DC%20Motor\n",
    "- **Youtube Link:** https://youtu.be/KwMOkR7ds_U "
   ]
  },
  {
   "cell_type": "markdown",
   "metadata": {},
   "source": [
    "### 4.5 Stepper Motor\n",
    "\n",
    "- **Description:** The purpose of this project was to control the motion of a Stepper motor using an Arduino board powered by a laptop and C++. The stepper motor used in this project was a 28BYJ-48 with Gear Reduction. After connecting the motor and ensuring it worked correctly, the objective was to generate code so that the motor would carry out the following functions: rotate clockwise and counterclockwise continuously, rotate a specific number of steps, for both clockwise and counterclockwise and stop. These five functions are triggered by entering it's respective command in the keyboard.\n",
    "  \n",
    "- **Status:** Completed \n",
    "- **Type of project:** University \n",
    "- **Tech Stack Implemented:**\n",
    "  - Arduino\n",
    "  - C++\n",
    "  - GitHub\n",
    "- **Source:** https://github.com/jadnell555/CollegeProjects/tree/main/Arduino/Microcomputer%20Interfacing%20Lab/Lab%206%20-%20Stepper%20Motor\n",
    "- **Youtube Link:** https://youtu.be/WMJqQuGLzes"
   ]
  },
  {
   "cell_type": "markdown",
   "metadata": {},
   "source": [
    "## 5. CONTACT INFORMATION SECTION:\n"
   ]
  },
  {
   "cell_type": "markdown",
   "metadata": {},
   "source": [
    "\n",
    "### 5.1 Social Media Links:\n",
    "\n",
    "- Instagram: https://www.instagram.com/j_dnll/\n",
    "- X: https://www.x.com/jadnellReyes \n",
    "- GitHub: https://github.com/jadnell555\n",
    "- LinkedIn: https://www.linkedin.com/in/jadnell-h-reyes-perez-301687280\n",
    "- Discord: https://discord.com/channels/@jadnellreyes\n",
    "\n",
    "### 5.2 Resumé Download Link: \n",
    "\n",
    "- https://drive.google.com/uc?id=1RnokdGCcXRmXDb7dFUEhO5OL5lO1PT3C&export=download\n",
    "\n",
    "### 5.3 Contact Form Recipient Email: \n",
    "- jadnellReyes@gmail.com"
   ]
  },
  {
   "cell_type": "markdown",
   "metadata": {},
   "source": [
    "## 6. TEMPLATES:"
   ]
  },
  {
   "cell_type": "markdown",
   "metadata": {},
   "source": [
    "### 6.1 Technologies Stack Button Template:\n"
   ]
  },
  {
   "cell_type": "code",
   "execution_count": null,
   "metadata": {
    "vscode": {
     "languageId": "html"
    }
   },
   "outputs": [],
   "source": [
    "<!-- Tech Stack Container -->\n",
    "<div id=\"****Container\" class=\"progLangCube\">\n",
    "    <div class=\"row\">\n",
    "      <div class=\"col\">\n",
    "        <img\n",
    "          class=\"progLangIcon\"\n",
    "          src=\"Images/Tech Stack/****\"\n",
    "          title=\"****\"\n",
    "          width=\"40em\"\n",
    "          height=\"40em\"\n",
    "          alt=\"**** Logo\"\n",
    "        />\n",
    "      </div>\n",
    "      <div class=\"col-5\">\n",
    "        <h6 class=\"progLangName\">****</h6>\n",
    "      </div>\n",
    "      <div class=\"col\">\n",
    "        <button type=\"button\" id=\"****Button\" class=\"expandButton\">\n",
    "          <img\n",
    "            id=\"****Arrow\"\n",
    "            class=\"expandArrow\"\n",
    "            src=\"Images/Icons/expandArrow.svg\"\n",
    "            title=\"Expand Arrow\"\n",
    "            width=\"30em\"\n",
    "            height=\"30em\"\n",
    "            alt=\"Expand Arrow\"\n",
    "          />\n",
    "        </button>\n",
    "      </div>\n",
    "    </div>\n",
    "    <hr id=\"techDescDivider\" />\n",
    "    <div class=\"row\">\n",
    "      <div class=\"col-4\">\n",
    "        <div class=\"row\">\n",
    "          <div class=\"col\">\n",
    "            <b class=\"description\">Description:</b>\n",
    "          </div>\n",
    "        </div>\n",
    "\n",
    "        <div class=\"row\">\n",
    "          <div id=\"****Spacing\" class=\"col\"></div>\n",
    "        </div>\n",
    "\n",
    "        <div class=\"row\">\n",
    "          <div class=\"col\">\n",
    "            <div class=\"container\">\n",
    "              <button\n",
    "                class=\"readMoreButton\"\n",
    "                onclick=\"window.location.href='*********';\"\n",
    "              >\n",
    "                <b class=\"readMoreText\">Read More</b>\n",
    "                <img\n",
    "                  src=\"Images/Icons/readMore.svg\"\n",
    "                  title=\"Read More\"\n",
    "                  width=\"16em\"\n",
    "                  height=\"16em\"\n",
    "                  alt=\"Magnifier\"\n",
    "                />\n",
    "              </button>\n",
    "            </div>\n",
    "          </div>\n",
    "        </div>\n",
    "      </div>\n",
    "\n",
    "      <div class=\"col-8\">\n",
    "        <b class=\"techDescription\">\n",
    "          Lorem ipsum dolor sit amet consectetur adipisicing elit. \n",
    "          Nulla quisquam molestias animi repellat voluptas cupiditate \n",
    "          odit! Id maxime repellendus voluptas, accusantium laboriosam \n",
    "          facere eos sapiente eaque sint, sit veniam amet.</b\n",
    "        >\n",
    "      </div>\n",
    "    </div>\n",
    "  </div>"
   ]
  },
  {
   "cell_type": "markdown",
   "metadata": {},
   "source": [
    "### 6.2 Project Card Template:\n"
   ]
  },
  {
   "cell_type": "code",
   "execution_count": null,
   "metadata": {
    "vscode": {
     "languageId": "html"
    }
   },
   "outputs": [],
   "source": [
    "<!-- PROJECT CARD-->\n",
    "<div class=\"projectCard\">\n",
    "    <div class=\"container text-center\">\n",
    "      <div class=\"row\">\n",
    "        <div class=\"col\">\n",
    "          <h3 class=\"cardTitles\">Title:</h3>\n",
    "          <h4 class=\"projectTitle\">********</h4>\n",
    "\n",
    "          <br />\n",
    "\n",
    "          <h3 class=\"cardTitles\">Description:</h3>\n",
    "          <p class=\"projectDescription\">\n",
    "            Lorem, ipsum dolor sit amet consectetur adipisicing elit. \n",
    "            Explicabo obcaecati laboriosam porro ab, unde doloremque \n",
    "            illum, in, quasi blanditiis molestiae autem cum sequi \n",
    "            iste facere aperiam eos? Omnis, quia nemo voluptatem modi \n",
    "            dignissimos minima. Impedit laudantium cupiditate magni et \n",
    "            illo modi voluptas natus ullam esse, debitis ipsa dolorum \n",
    "            vel laboriosam nostrum sapiente harum ea repudiandae \n",
    "            corporis blanditiis, expedita accusamus nam exercitationem. \n",
    "            Assumenda dolor hic, nemo sunt molestiae vero recusandae \n",
    "            esse fugit facere unde, voluptas, nostrum explicabo. Dolores \n",
    "            dignissimos earum distinctio ipsam doloremque odio error dolor \n",
    "            repudiandae harum quasi modi reprehenderit molestias, ducimus \n",
    "            dolore et, fuga, quod nostrum nobis sapiente. Labore.\n",
    "          </p>\n",
    "          <br />\n",
    "\n",
    "          <h3 class=\"cardTitles\">Sources:</h3>\n",
    "          <button\n",
    "            class=\"sourceCodeButton\"\n",
    "            type=\"button\"\n",
    "            onclick=\"window.location.href='*******';\"\n",
    "          >\n",
    "            <img\n",
    "              src=\"Images/Tech Stack/github.svg\"\n",
    "              title=\"Source Code\"\n",
    "              width=\"50px\"\n",
    "              height=\"50px\"\n",
    "              alt=\"GitHub Logo\"\n",
    "            />\n",
    "            Code\n",
    "          </button>\n",
    "\n",
    "          <br /><br />\n",
    "        </div>\n",
    "\n",
    "        <div class=\"col\">\n",
    "          <h3 class=\"cardTitles\">Type of Project:</h3>\n",
    "          <div class=\"row\">\n",
    "            <div id=\"personal\" class=\"col projectType\">\n",
    "              Personal\n",
    "            </div>\n",
    "            <div id=\"university\" class=\"col projectType\">University</div>\n",
    "            <div id=\"professional\" class=\"col projectType\">\n",
    "              Professional\n",
    "            </div>\n",
    "          </div>\n",
    "\n",
    "          <br />\n",
    "\n",
    "          <h3 class=\"cardTitles\">Tech Stack Implemented:</h3>\n",
    "\n",
    "          <!-- Tech Stack Implemented Button. Add as needed.-->\n",
    "          <button\n",
    "            class=\"projectButton\"\n",
    "            type=\"button\"\n",
    "            onclick=\"window.location.href='*****';\"\n",
    "          >\n",
    "            <img\n",
    "              src=\"Images/Tech Stack/*****\"\n",
    "              title=\"*****\"\n",
    "              width=\"35px\"\n",
    "              height=\"35px\"\n",
    "              alt=\"***** Logo\"\n",
    "            />\n",
    "          </button>\n",
    "\n",
    "          <br /><br />\n",
    "\n",
    "          <h3 class=\"cardTitles\">Images:</h3>\n",
    "\n",
    "          <!-- Image Slideshow -->\n",
    "          <div class=\"slideshow-container\">\n",
    "            <!-- Full-width images with number and caption text -->\n",
    "            <div class=\"mySlides* fade\">\n",
    "              <img\n",
    "                class=\"projectImages\"\n",
    "                src=\"Images/Project Pictures/******\"\n",
    "                alt=\"*****\"\n",
    "              />\n",
    "            </div>\n",
    "\n",
    "            <div class=\"mySlides* fade\">\n",
    "              <img\n",
    "                class=\"projectImages\"\n",
    "                src=\"Images/Project Pictures/******\"\n",
    "                alt=\"*****\"\n",
    "              />\n",
    "            </div>\n",
    "\n",
    "            <!-- Next and previous buttons -->\n",
    "            <button class=\"prev\" onclick=\"plusSlides(-1, *)\">\n",
    "              <img\n",
    "                src=\"Images/Icons/prevImage.svg\"\n",
    "                width=\"30px\"\n",
    "                height=\"30px\"\n",
    "                alt=\"Previous picture arrow button.\"\n",
    "              />\n",
    "            </button>\n",
    "            <button class=\"next\" onclick=\"plusSlides(1, *)\">\n",
    "              <img\n",
    "                src=\"Images/Icons/nextImage.svg\"\n",
    "                width=\"30px\"\n",
    "                height=\"30px\"\n",
    "                alt=\"Next picture arrow button.\"\n",
    "              />\n",
    "            </button>\n",
    "          </div>\n",
    "\n",
    "          <!-- The dots/circles -->\n",
    "          <div id=\"imageDots*\">\n",
    "            <span class=\"dot*\" onclick=\"currentSlide(1, *)\"></span>\n",
    "            <span class=\"dot*\" onclick=\"currentSlide(2, *)\"></span>\n",
    "          </div>\n",
    "\n",
    "          <br />\n",
    "          <div class=\"space10px\"></div>\n",
    "\n",
    "          <h3 class=\"cardTitles\">Status:</h3>\n",
    "          <div class=\"status ***\"> ***** </div>\n",
    "        </div>\n",
    "      </div>\n",
    "    </div>\n",
    "    <!-- End Project Card -->\n",
    "  </div>"
   ]
  },
  {
   "cell_type": "markdown",
   "metadata": {},
   "source": [
    "### 6.3 Social Media Button Template:"
   ]
  },
  {
   "cell_type": "code",
   "execution_count": null,
   "metadata": {
    "vscode": {
     "languageId": "html"
    }
   },
   "outputs": [],
   "source": [
    "<div class=\"container\">\n",
    "    <button\n",
    "      class=\"socialMediaButton\"\n",
    "      type=\"button\"\n",
    "      onclick=\"window.location.href='****';\"\n",
    "    >\n",
    "      <img\n",
    "        src=\"Images/Social Media/****\"\n",
    "        title=\"****\"\n",
    "        width=\"30px\"\n",
    "        height=\"30px\"\n",
    "        alt=\"**** Button\"\n",
    "      />\n",
    "    </button>\n",
    "    <h6 class=\"socialMediaTitles\">****</h6>\n",
    "  </div>"
   ]
  }
 ],
 "metadata": {
  "kernelspec": {
   "display_name": "Python 3",
   "language": "python",
   "name": "python3"
  },
  "language_info": {
   "codemirror_mode": {
    "name": "ipython",
    "version": 3
   },
   "file_extension": ".py",
   "mimetype": "text/x-python",
   "name": "python",
   "nbconvert_exporter": "python",
   "pygments_lexer": "ipython3",
   "version": "3.9.13"
  },
  "orig_nbformat": 4
 },
 "nbformat": 4,
 "nbformat_minor": 2
}
