{
 "cells": [
  {
   "cell_type": "markdown",
   "metadata": {},
   "source": [
    "# Jadnell H. Reyes Pérez Portfolio"
   ]
  },
  {
   "cell_type": "markdown",
   "metadata": {},
   "source": [
    "## Index:\n",
    "\n",
    "### 1. About me\n",
    "### 2. Technologies Stack \n",
    "### 3. Projects\n",
    "### 4. Contact Information"
   ]
  },
  {
   "cell_type": "markdown",
   "metadata": {},
   "source": [
    "## ABOUT ME:\n"
   ]
  },
  {
   "cell_type": "markdown",
   "metadata": {},
   "source": [
    "## TECHNOLOGIES STACK:"
   ]
  },
  {
   "cell_type": "markdown",
   "metadata": {},
   "source": [
    "### Tech Stack Information Links: \n",
    "\n",
    "| Programming Languages and Software | Description | Source |\n",
    "| ---------------------------------- | ----------- | ------ |\n",
    "| HTML |HTML is the language in which most websites are written. HTML is used to create pages and make them functional. HTML stands for Hyper Text Markup Language | https://html.com/ |\n",
    "| CSS | Cascading Style Sheets (CSS) is a simple mechanism for adding style (e.g., fonts, colors, spacing) to Web documents. | https://www.w3.org/Style/CSS/Overview.en.html |\n",
    "| JavaScript | JavaScript is a scripting or programming language that allows you to implement complex features on web pages — every time a web page does more than just sit there and display static information for you to look at — displaying timely content updates, interactive maps, animated 2D/3D graphics, scrolling video jukeboxes, etc. | https://developer.mozilla.org/en-US/docs/Learn/JavaScript/First_steps/What_is_JavaScript |\n",
    "| Python | Python is an interpreted, interactive, object-oriented programming language. It incorporates modules, exceptions, dynamic typing, very high level dynamic data types, and classes. It supports multiple programming paradigms beyond object-oriented programming, such as procedural and functional programming. Python combines remarkable power with very clear syntax. | https://docs.python.org/3/faq/general.html#what-is-python |\n",
    "| C++ |C++ is a cross-platform language that can be used to create high-performance applications. | https://www.w3schools.com/cpp/cpp_intro.asp |\n",
    "| Dart |Dart is a client-optimized language for developing fast apps on any platform. Its goal is to offer the most productive programming language for multi-platform development, paired with a flexible execution runtime platform for app frameworks.| https://dart.dev/overview |\n",
    "| SQL | Structured query language (SQL) is a programming language for storing and processing information in a relational database. A relational database stores information in tabular form, with rows and columns representing different data attributes and the various relationships between the data values. | https://aws.amazon.com/what-is/sql/ |\n",
    "| MATLAB | MATLAB is a programming and numeric computing platform used by millions of engineers and scientists to analyze data, develop algorithms, and create models. | https://www.mathworks.com/products/matlab.html |\n",
    "| Visual Studio Code | Visual Studio Code is a streamlined code editor with support for development operations like debugging, task running, and version control. It aims to provide just the tools a developer needs for a quick code-build-debug cycle and leaves more complex workflows to fuller featured IDEs, such as Visual Studio IDE. | https://code.visualstudio.com/docs/supporting/faq |\n",
    "| Android Studio |Android Studio is the official Integrated Development Environment (IDE) for Android app development. Based on the powerful code editor and developer tools from IntelliJ IDEA , Android Studio offers even more features that enhance your productivity when building Android apps |https://developer.android.com/studio/intro |\n",
    "| Visual Studio | The Visual Studio IDE is a creative launching pad that you can use to edit, debug, and build code, and then publish an app. Over and above the standard editor and debugger that most IDEs provide, Visual Studio includes compilers, code completion tools, graphical designers, and many more features to enhance the software development process. | https://visualstudio.microsoft.com/#vs-section |\n",
    "| VirtualBox | VirtualBox is a general-purpose full virtualizer for x86 hardware, targeted at server, desktop and embedded use. | https://www.virtualbox.org/wiki/VirtualBox |\n",
    "| Raspberry Pi |Raspberry Pi is a micro computer that has all the features you expect from a regular computer: wireless internet connectivity, HDMI ports for your monitors, and USB ports for your accessories, along with ample processing power and RAM for all your day-to-day use.| https://www.raspberrypi.com/for-home/ |\n",
    "|Arduino|Arduino is an open-source electronics platform based on easy-to-use hardware and software. Arduino boards are able to read inputs - light on a sensor, a finger on a button, or a Twitter message - and turn it into an output - activating a motor, turning on an LED, publishing something online. You can tell your board what to do by sending a set of instructions to the microcontroller on the board. |https://www.arduino.cc/en/Guide/Introduction|\n",
    "| GitHub |GitHub is a code hosting platform for version control and collaboration. It lets you and others work together on projects from anywhere.|https://docs.github.com/en/get-started/quickstart/hello-world |\n",
    "| Jupyter Notebooks | Jupyter Notebook is a simplified notebook authoring application, and is a part of Project Jupyter, a large umbrella project centered around the goal of providing tools (and standards) for interactive computing with computational notebooks. A computational notebook is a shareable document that combines computer code, plain language descriptions, data, rich visualizations like 3D models, charts, graphs and figures, and interactive controls. | https://jupyter-notebook.readthedocs.io/en/stable/|\n",
    "| Flutter | Flutter is an open source framework by Google for building beautiful, natively compiled, multi-platform applications from a single codebase. | https://flutter.dev/ |\n",
    "| Django | Django is a high-level Python web framework that encourages rapid development and clean, pragmatic design. Built by experienced developers, it takes care of much of the hassle of web development, so you can focus on writing your app without needing to reinvent the wheel. It’s free and open source. | https://www.djangoproject.com/ |\n",
    "| Bootstrap | Bootstrap is the most popular CSS Framework for developing responsive and mobile-first websites. Bootstrap 5 is the newest version of Bootstrap. | https://www.w3schools.com/whatis/whatis_bootstrap.asp |"
   ]
  },
  {
   "cell_type": "markdown",
   "metadata": {},
   "source": [
    "## PROJECTS:"
   ]
  },
  {
   "cell_type": "markdown",
   "metadata": {},
   "source": [
    "### 1. Capstone Project: DEPO Web App\n",
    "\n",
    "- **Description:** This Capstone Project was developed for the Office of Special Investigations of ASG (“Administracion de Servicios Generales de Puerto Rico”), which requires exempt and governmental entities with some delegation, to submit monthly reports of the purchases made. The **Digital Exempt Procurement Oversight** (DEPO) web application was developed to automate the audit process and expedite the workflow by providing government agencies with a user-friendly portal, minimizing errors, and speeding up data entry. This project focused on the user-side of the web app, as in, the part that ASG employees will interact with. The client-side was handled by another team that was in close contact with ours to ensure compatibility. For security reasons, the source code of this project is not available. \n",
    "\n",
    "\n",
    "- **Status:** Completed \n",
    "- **Type of project:** University \n",
    "- **Tech Stack Implemented:**\n",
    "  - Bootstrap\n",
    "  - CSS\n",
    "  - Django\n",
    "  - GitHub\n",
    "  - HTML\n",
    "  - JavaScript \n",
    "  - Python \n",
    "  - SQL\n",
    "  - Visual Studio Code\n",
    "- **Source:** N/A\n"
   ]
  },
  {
   "cell_type": "markdown",
   "metadata": {},
   "source": [
    "- **Images:**\n",
    "  - #1\n",
    "  - #2\n",
    "  - #3"
   ]
  },
  {
   "cell_type": "markdown",
   "metadata": {},
   "source": [
    "### 2. My Portfolio (This Project)\n",
    "\n",
    "- **Description:** My portfolio is the current webpage you're on and works as a summary and collection of projects, experiences and knowledge I have gained up to now. While, it also includes contact information, such as: social media, a contact form and even my Resume. It was implemented using GitHub pages which is a static site hosting service provided by GitHub. I decided to use this service since it is free and because of it's ease of use and maintenance. Since its hosted in a static site I utilized another service to handle the contact form called pageclip. This project was developed after I graduated college in July 2023. \n",
    "- **Status:** In progress \n",
    "- **Type of project:** Personal \n",
    "- **Tech Stack Implemented:**\n",
    "  - Bootstrap\n",
    "  - CSS\n",
    "  - GitHub\n",
    "  - HTML\n",
    "  - JavaScript \n",
    "  - Jupyter Notebook\n",
    "  - Visual Studio Code\n",
    "- **Source:** https://github.com/jadnell555/jadnell555.github.io"
   ]
  },
  {
   "cell_type": "markdown",
   "metadata": {},
   "source": [
    "### 3. Haresh Quiz Game\n",
    "\n",
    "- **Description:** Haresh Quiz Game consists of 20 questions. You start with three lives and every time you answer a question incorrectly you lose one. If you lose all of your lives it's game over. If you reach the end without losing all of your lifes, you win. In this program we use the graphics.py module from John Zelle's *Python Programming: An Introduction to Computer Science* book to generate a simple GUI (Graphical User Interface) for the game. The project has three versions. Version A uses only conditional logic. Version B implemented functions to simplify the code. Lastly, in Version C classes were used to simplify it even further.   \n",
    "- **Status:** Completed \n",
    "- **Type of project:** University \n",
    "- **Tech Stack Implemented:**\n",
    "  - GitHub\n",
    "  - Python \n",
    "  - Visual Studio Code\n",
    "- **Source:** https://github.com/jadnell555/reyes_109739_project01_HareshQuizGame"
   ]
  },
  {
   "cell_type": "markdown",
   "metadata": {},
   "source": [
    "### 4. DC Motor: Control, Direction and PWM\n",
    "\n",
    "- **Description:** The purpose of this project was to power a DC (Direct Current) motor and control it's motion using an Arduino board powered by a laptop and C++. The speed of the motor can be altered by manipulating its driving voltage. This project consisted of three parts. First, we had to connect and test the DC motor to the Arduino board. Secondly, we had to generate code that would increase the motor's speed by 10% every 5 seconds using PWM (Pulse Width Modulation). Lastly, the DC motor had to be controlled with the keyboard's input using the serial port or the Arduino board. \n",
    "- **Status:** Completed \n",
    "- **Type of project:** University \n",
    "- **Tech Stack Implemented:**\n",
    "  - Arduino\n",
    "  - C++\n",
    "  - GitHub\n",
    "- **Source:** https://github.com/jadnell555/CollegeProjects/tree/main/Arduino/Microcomputer%20Interfacing%20Lab/Lab%205%20-%20DC%20Motor\n",
    "- **Youtube Link:** https://youtu.be/KwMOkR7ds_U "
   ]
  },
  {
   "cell_type": "markdown",
   "metadata": {},
   "source": [
    "### 5. Stepper Motor\n",
    "\n",
    "- **Description:** The purpose of this project was to control the motion of a Stepper motor using an Arduino board powered by a laptop and C++. The stepper motor used in this project was a 28BYJ-48 with Gear Reduction. This motor has a good torque for its size but a relatively slow motion. After connecting the motor and ensuring it worked correctly the objective was to generate code so that the stepper motor would carry out the following functions: rotate clockwise continuously, rotate counterclockwise continuously, rotate a specific number of steps clockwise, rotate a specific number of steps counterclockwise and stop. These functions would be triggered by entering its respective command in the keyboard. \n",
    "- **Status:** Completed \n",
    "- **Type of project:** University \n",
    "- **Tech Stack Implemented:**\n",
    "  - Arduino\n",
    "  - C++\n",
    "  - GitHub\n",
    "- **Source:** https://github.com/jadnell555/CollegeProjects/tree/main/Arduino/Microcomputer%20Interfacing%20Lab/Lab%206%20-%20Stepper%20Motor\n",
    "- **Youtube Link:** https://youtu.be/WMJqQuGLzes"
   ]
  },
  {
   "cell_type": "markdown",
   "metadata": {},
   "source": [
    "## CONTACT INFORMATION:\n"
   ]
  }
 ],
 "metadata": {
  "kernelspec": {
   "display_name": "Python 3",
   "language": "python",
   "name": "python3"
  },
  "language_info": {
   "codemirror_mode": {
    "name": "ipython",
    "version": 3
   },
   "file_extension": ".py",
   "mimetype": "text/x-python",
   "name": "python",
   "nbconvert_exporter": "python",
   "pygments_lexer": "ipython3",
   "version": "3.9.13"
  },
  "orig_nbformat": 4
 },
 "nbformat": 4,
 "nbformat_minor": 2
}
